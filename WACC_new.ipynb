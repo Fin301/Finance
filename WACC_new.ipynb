{
 "cells": [
  {
   "cell_type": "code",
   "execution_count": 1,
   "id": "c675e6e8-9222-4f16-8217-83f7b25c84d3",
   "metadata": {},
   "outputs": [
    {
     "data": {
      "application/vnd.jupyter.widget-view+json": {
       "model_id": "8fb637f28dae4da2b9acb2f17e6e82c8",
       "version_major": 2,
       "version_minor": 0
      },
      "text/plain": [
       "VBox(children=(HBox(children=(IntSlider(value=5000000, description='Equity Value', max=500000000, step=100000)…"
      ]
     },
     "metadata": {},
     "output_type": "display_data"
    },
    {
     "data": {
      "application/vnd.jupyter.widget-view+json": {
       "model_id": "e21d56ef555c40f5bda3971d3ff81b7b",
       "version_major": 2,
       "version_minor": 0
      },
      "text/plain": [
       "Output()"
      ]
     },
     "metadata": {},
     "output_type": "display_data"
    }
   ],
   "source": [
    "import matplotlib.pyplot as plt\n",
    "from ipywidgets import interact, interactive_output, VBox, HBox, IntSlider, FloatSlider\n",
    "import ipywidgets as widgets\n",
    "from IPython.display import display, clear_output\n",
    "\n",
    "def calculate_wacc(equity_value, debt_value, preferred_stock_value, cost_of_equity, cost_of_debt, cost_of_preferred, tax_rate):\n",
    "    # Calculate total value of the firm\n",
    "    total_value = equity_value + debt_value + preferred_stock_value\n",
    "    \n",
    "    # Calculate weight of equity, debt, and preferred stock\n",
    "    equity_weight = equity_value / total_value if total_value > 0 else 0\n",
    "    debt_weight = debt_value / total_value if total_value > 0 else 0\n",
    "    preferred_weight = preferred_stock_value / total_value if total_value > 0 else 0\n",
    "    \n",
    "    # Calculate cost contribution of each component (for WACC calculation only)\n",
    "    equity_cost_contribution = equity_weight * cost_of_equity\n",
    "    debt_cost_contribution = debt_weight * cost_of_debt * (1 - tax_rate)\n",
    "    preferred_cost_contribution = preferred_weight * cost_of_preferred\n",
    "    \n",
    "    # Calculate WACC\n",
    "    wacc = equity_cost_contribution + debt_cost_contribution + preferred_cost_contribution\n",
    "    \n",
    "    # Create a pie chart to visualize the capital structure (equity, debt, and preferred stock weights)\n",
    "    labels = ['Equity', 'Debt', 'Preferred Stock']\n",
    "    sizes = [equity_weight, debt_weight, preferred_weight]\n",
    "    colors = ['lightblue', 'lightgreen', 'lightcoral']\n",
    "    explode = (0.1, 0, 0)  # \"explode\" the equity slice to highlight it\n",
    "\n",
    "    plt.figure(figsize=(12, 6))\n",
    "    \n",
    "    # Pie chart on the left\n",
    "    plt.subplot(1, 2, 1)\n",
    "    plt.pie(sizes, explode=explode, labels=labels, colors=colors, autopct='%1.1f%%', shadow=True, startangle=140)\n",
    "    plt.title('Capital Structure: Equity vs Debt vs Preferred Stock')\n",
    "    plt.axis('equal')  # Equal aspect ratio ensures the pie chart is circular\n",
    "\n",
    "    # Display all variables on the right\n",
    "    plt.subplot(1, 2, 2)\n",
    "    plt.axis('off')  # Turn off axis\n",
    "    variables_text = (\n",
    "        f\"Equity Value: ${equity_value:,.0f}\\n\"\n",
    "        f\"Debt Value: ${debt_value:,.0f}\\n\"\n",
    "        f\"Preferred Stock Value: ${preferred_stock_value:,.0f}\\n\"\n",
    "        f\"Cost of Equity: {cost_of_equity:.2%}\\n\"\n",
    "        f\"Cost of Debt: {cost_of_debt:.2%}\\n\"\n",
    "        f\"Cost of Preferred Stock: {cost_of_preferred:.2%}\\n\"\n",
    "        f\"Corporate Tax Rate: {tax_rate:.2%}\\n\\n\"\n",
    "        f\"Equity Weight: {equity_weight:.2%}\\n\"\n",
    "        f\"Debt Weight: {debt_weight:.2%}\\n\"\n",
    "        f\"Preferred Stock Weight: {preferred_weight:.2%}\\n\\n\"\n",
    "        f\"Equity Cost Contribution: {equity_cost_contribution:.2%}\\n\"\n",
    "        f\"Debt Cost Contribution: {debt_cost_contribution:.2%}\\n\"\n",
    "        f\"Preferred Stock Cost Contribution: {preferred_cost_contribution:.2%}\\n\\n\"\n",
    "        f\"Weighted Average Cost of Capital (WACC): {wacc:.2%}\"\n",
    "    )\n",
    "    plt.text(0.1, 0.5, variables_text, fontsize=12, va='center')\n",
    "    \n",
    "    plt.tight_layout()\n",
    "    plt.show()\n",
    "\n",
    "def interactive_wacc():\n",
    "    # Create sliders for interactive input\n",
    "    equity_value_slider = widgets.IntSlider(min=0, max=500000000, step=100000, value=5000000, description='Equity Value')\n",
    "    debt_value_slider = widgets.IntSlider(min=0, max=500000000, step=100000, value=2000000, description='Debt Value')\n",
    "    preferred_stock_value_slider = widgets.IntSlider(min=0, max=500000000, step=100000, value=1000000, description='Preferred Stock Value')\n",
    "    cost_of_equity_slider = widgets.FloatSlider(min=0, max=0.2, step=0.01, value=0.08, description='Cost of Equity', readout_format='.2%')\n",
    "    cost_of_debt_slider = widgets.FloatSlider(min=0, max=0.2, step=0.01, value=0.05, description='Cost of Debt', readout_format='.2%')\n",
    "    cost_of_preferred_slider = widgets.FloatSlider(min=0, max=0.2, step=0.01, value=0.06, description='Cost of Preferred', readout_format='.2%')\n",
    "    tax_rate_slider = widgets.FloatSlider(min=0, max=0.5, step=0.01, value=0.21, description='Tax Rate', readout_format='.2%')\n",
    "\n",
    "    # Interactive output\n",
    "    ui = VBox([\n",
    "        HBox([equity_value_slider, debt_value_slider, preferred_stock_value_slider]),\n",
    "        HBox([cost_of_equity_slider, cost_of_debt_slider, cost_of_preferred_slider]),\n",
    "        tax_rate_slider\n",
    "    ])\n",
    "    out = interactive_output(calculate_wacc, {\n",
    "        'equity_value': equity_value_slider,\n",
    "        'debt_value': debt_value_slider,\n",
    "        'preferred_stock_value': preferred_stock_value_slider,\n",
    "        'cost_of_equity': cost_of_equity_slider,\n",
    "        'cost_of_debt': cost_of_debt_slider,\n",
    "        'cost_of_preferred': cost_of_preferred_slider,\n",
    "        'tax_rate': tax_rate_slider\n",
    "    })\n",
    "    \n",
    "    display(ui, out)\n",
    "\n",
    "# Run the interactive widget\n",
    "interactive_wacc()\n"
   ]
  },
  {
   "cell_type": "code",
   "execution_count": null,
   "id": "5570a1fa-dfd3-4fe7-adcd-c38391fedcf1",
   "metadata": {},
   "outputs": [],
   "source": []
  }
 ],
 "metadata": {
  "kernelspec": {
   "display_name": "Python 3 (ipykernel)",
   "language": "python",
   "name": "python3"
  },
  "language_info": {
   "codemirror_mode": {
    "name": "ipython",
    "version": 3
   },
   "file_extension": ".py",
   "mimetype": "text/x-python",
   "name": "python",
   "nbconvert_exporter": "python",
   "pygments_lexer": "ipython3",
   "version": "3.13.0"
  }
 },
 "nbformat": 4,
 "nbformat_minor": 5
}
